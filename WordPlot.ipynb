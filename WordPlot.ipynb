{
 "cells": [
  {
   "cell_type": "code",
   "execution_count": null,
   "metadata": {},
   "outputs": [],
   "source": [
    "import pandas as pd\n",
    "import re\n",
    "import nltk\n",
    "from nltk.corpus import stopwords\n",
    "from nltk.tokenize import word_tokenize  \n",
    "from nltk.stem.porter import PorterStemmer\n",
    "from nltk.tokenize import word_tokenize, sent_tokenize\n",
    "from nltk.stem.wordnet import WordNetLemmatizer\n",
    "from sklearn.feature_extraction.text import CountVectorizer\n",
    "from sklearn.feature_extraction.text import TfidfVectorizer\n",
    "import matplotlib.pyplot as plt; plt.rcdefaults()\n",
    "import numpy as np\n",
    "import pickle\n",
    "#nltk.download()\n",
    "#pip intall \n",
    "\n",
    "def frequentWords(wordList,count):\n",
    "    #corpus = df_clean['filteredText'].values.astype('U')\n",
    "    cntVector = CountVectorizer().fit(wordList)\n",
    "    bagOfWords = cntVector.transform(wordList)\n",
    "    sumWords = bagOfWords.sum(axis=0)\n",
    "    words_freq = [(word, sumWords[0, idx]) for word, idx in cntVector.vocabulary_.items()]\n",
    "    words_freq =sorted(words_freq, key = lambda x: x[1], reverse=True)\n",
    "    return pd.DataFrame(words_freq[:count],columns=['text','count'])\n",
    "\n",
    "def frequentNWords(wordList, count):\n",
    "    cntVector = CountVectorizer(ngram_range=(2, 2)).fit(wordList)\n",
    "    bagOfWords = cntVector.transform(wordList)\n",
    "    sumWords = bagOfWords.sum(axis=0)\n",
    "    words_freq = [(word, sumWords[0, idx]) for word, idx in cntVector.vocabulary_.items()]\n",
    "    words_freq =sorted(words_freq, key = lambda x: x[1], reverse=True)\n",
    "    return pd.DataFrame(words_freq[:count],columns=['text','count'])\n",
    "\n",
    "def plotGraph(data,title):\n",
    "    objects = (data['text'])\n",
    "    y_pos = np.arange(len(objects))\n",
    "    count = data['count']\n",
    "    plt.figure(figsize=(10, 5))\n",
    "    plt.bar(y_pos, count, align='edge', alpha=0.5, width=0.3)\n",
    "    plt.xticks(y_pos, objects)\n",
    "    plt.ylabel('Count')\n",
    "    plt.title(title)\n",
    "    plt.show()\n",
    "\n",
    "if __name__ == \"__main__\":\n",
    "  filename = 'df_clean'\n",
    "  infile = open(filename,'rb')\n",
    "  df_clean = pickle.load(infile, encoding='bytes')\n",
    "  df_fake = df_clean[df_clean['label'] == 1]\n",
    "  df_real = df_clean[df_clean['label'] == 0]  \n",
    "  df_freqWords = frequentWords(df_fake['filteredText'].values.astype('U'), 20)\n",
    "  df_freqNWords = frequentNWords(df_fake['filteredText'].values.astype('U'), 20)\n",
    "  plotGraph(df_freqWords,'Unigram')\n",
    "  plotGraph(df_freqNWords,'Bigram')\n"
   ]
  }
 ],
 "metadata": {
  "kernelspec": {
   "display_name": "Python 3",
   "language": "python",
   "name": "python3"
  },
  "language_info": {
   "codemirror_mode": {
    "name": "ipython",
    "version": 3
   },
   "file_extension": ".py",
   "mimetype": "text/x-python",
   "name": "python",
   "nbconvert_exporter": "python",
   "pygments_lexer": "ipython3",
   "version": "3.8.3"
  }
 },
 "nbformat": 4,
 "nbformat_minor": 4
}
